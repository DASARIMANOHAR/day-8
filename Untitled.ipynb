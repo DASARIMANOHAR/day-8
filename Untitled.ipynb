{
 "cells": [
  {
   "cell_type": "markdown",
   "id": "ca7b41df",
   "metadata": {},
   "source": [
    "- string methods\n"
   ]
  },
  {
   "cell_type": "code",
   "execution_count": 4,
   "id": "8f7b2705",
   "metadata": {},
   "outputs": [],
   "source": [
    "s2='apssdc is the training program of python'"
   ]
  },
  {
   "cell_type": "code",
   "execution_count": 5,
   "id": "c8329d96",
   "metadata": {},
   "outputs": [
    {
     "name": "stdout",
     "output_type": "stream",
     "text": [
      "apssdc is the training program of python\n"
     ]
    }
   ],
   "source": [
    "print(s2)"
   ]
  },
  {
   "cell_type": "code",
   "execution_count": 6,
   "id": "57b4a33e",
   "metadata": {},
   "outputs": [],
   "source": [
    "s2='apssdc is the training program of python'\n",
    "s3='96785'\n"
   ]
  },
  {
   "cell_type": "code",
   "execution_count": 8,
   "id": "a8074f35",
   "metadata": {},
   "outputs": [
    {
     "name": "stdout",
     "output_type": "stream",
     "text": [
      "APSSDC IS THE TRAINING PROGRAM OF PYTHON\n"
     ]
    }
   ],
   "source": [
    "print(s2.upper())"
   ]
  },
  {
   "cell_type": "code",
   "execution_count": 10,
   "id": "bd6df20a",
   "metadata": {},
   "outputs": [
    {
     "name": "stdout",
     "output_type": "stream",
     "text": [
      "apssdc is the training program of python\n"
     ]
    }
   ],
   "source": [
    "print(s1.lower())"
   ]
  },
  {
   "cell_type": "code",
   "execution_count": 11,
   "id": "caadc9a0",
   "metadata": {},
   "outputs": [],
   "source": [
    "s3=s2"
   ]
  },
  {
   "cell_type": "code",
   "execution_count": 12,
   "id": "7ed60300",
   "metadata": {},
   "outputs": [
    {
     "name": "stdout",
     "output_type": "stream",
     "text": [
      "apssdc is the training program of python\n"
     ]
    }
   ],
   "source": [
    "print(s3)"
   ]
  },
  {
   "cell_type": "code",
   "execution_count": 14,
   "id": "7276cace",
   "metadata": {},
   "outputs": [
    {
     "name": "stdout",
     "output_type": "stream",
     "text": [
      "False\n"
     ]
    }
   ],
   "source": [
    "print(s3.isdigit())"
   ]
  },
  {
   "cell_type": "code",
   "execution_count": 16,
   "id": "f6368756",
   "metadata": {},
   "outputs": [],
   "source": [
    "s2='apssdc is the training program of python'\n",
    "s3='96785'\n",
    "s4='APSSDC'\n",
    "    \n",
    "    \n",
    "    "
   ]
  },
  {
   "cell_type": "code",
   "execution_count": 18,
   "id": "c4d6bb5c",
   "metadata": {},
   "outputs": [
    {
     "name": "stdout",
     "output_type": "stream",
     "text": [
      "True\n"
     ]
    }
   ],
   "source": [
    "print(s3.isdigit())"
   ]
  },
  {
   "cell_type": "code",
   "execution_count": 20,
   "id": "1e15a0ec",
   "metadata": {},
   "outputs": [
    {
     "name": "stdout",
     "output_type": "stream",
     "text": [
      "True\n"
     ]
    }
   ],
   "source": [
    "print(s3.startswith(\"96\"))"
   ]
  },
  {
   "cell_type": "code",
   "execution_count": 22,
   "id": "cd870d98",
   "metadata": {},
   "outputs": [],
   "source": [
    "s5='manohar@apssdc.com'"
   ]
  },
  {
   "cell_type": "code",
   "execution_count": 27,
   "id": "c84fdf36",
   "metadata": {},
   "outputs": [
    {
     "name": "stdout",
     "output_type": "stream",
     "text": [
      "7\n"
     ]
    }
   ],
   "source": [
    "print(s5.index('@'))\n",
    "\n"
   ]
  },
  {
   "cell_type": "code",
   "execution_count": 30,
   "id": "20b03d43",
   "metadata": {},
   "outputs": [
    {
     "name": "stdout",
     "output_type": "stream",
     "text": [
      "manohar\n"
     ]
    }
   ],
   "source": [
    "print(s5[:s5.index('@')])"
   ]
  },
  {
   "cell_type": "code",
   "execution_count": 32,
   "id": "88c6973d",
   "metadata": {},
   "outputs": [
    {
     "name": "stdout",
     "output_type": "stream",
     "text": [
      "apssdc\n"
     ]
    }
   ],
   "source": [
    "print(s5[s5.index('@')+1:s5.index('.')])"
   ]
  },
  {
   "cell_type": "code",
   "execution_count": 33,
   "id": "f889fd40",
   "metadata": {},
   "outputs": [
    {
     "name": "stdout",
     "output_type": "stream",
     "text": [
      "3\n"
     ]
    }
   ],
   "source": [
    "print(s5.count('a'))"
   ]
  },
  {
   "cell_type": "code",
   "execution_count": 34,
   "id": "f195e43d",
   "metadata": {},
   "outputs": [
    {
     "name": "stdout",
     "output_type": "stream",
     "text": [
      "1\n"
     ]
    }
   ],
   "source": [
    "print(s5.count('ss'))"
   ]
  },
  {
   "cell_type": "code",
   "execution_count": 35,
   "id": "e8571f4c",
   "metadata": {},
   "outputs": [],
   "source": [
    "s6='  python  '"
   ]
  },
  {
   "cell_type": "markdown",
   "id": "a685ea40",
   "metadata": {},
   "source": [
    "* strip is used to erase the unwanted charecters in string"
   ]
  },
  {
   "cell_type": "code",
   "execution_count": 36,
   "id": "3f3e7b87",
   "metadata": {},
   "outputs": [
    {
     "name": "stdout",
     "output_type": "stream",
     "text": [
      "python  \n"
     ]
    }
   ],
   "source": [
    "print(s6.lstrip(' '))"
   ]
  },
  {
   "cell_type": "code",
   "execution_count": 37,
   "id": "b24c531e",
   "metadata": {},
   "outputs": [
    {
     "name": "stdout",
     "output_type": "stream",
     "text": [
      "python     python\n"
     ]
    }
   ],
   "source": [
    "print(s6.lstrip(' '),s6.rstrip(' '))"
   ]
  },
  {
   "cell_type": "code",
   "execution_count": 38,
   "id": "ffa9427f",
   "metadata": {},
   "outputs": [
    {
     "name": "stdout",
     "output_type": "stream",
     "text": [
      "apssdc is the training program of python\n"
     ]
    }
   ],
   "source": [
    "print(s1)"
   ]
  },
  {
   "cell_type": "code",
   "execution_count": 39,
   "id": "29f6f432",
   "metadata": {},
   "outputs": [
    {
     "name": "stdout",
     "output_type": "stream",
     "text": [
      "['apssdc', 'is', 'the', 'training', 'program', 'of', 'python']\n"
     ]
    }
   ],
   "source": [
    "print(s1.split())"
   ]
  },
  {
   "cell_type": "code",
   "execution_count": 41,
   "id": "5e6614b2",
   "metadata": {},
   "outputs": [
    {
     "name": "stdout",
     "output_type": "stream",
     "text": [
      "['apssdc is the training program of python']\n"
     ]
    }
   ],
   "source": [
    "print(s1.split('.'))"
   ]
  },
  {
   "cell_type": "code",
   "execution_count": 42,
   "id": "243aab8e",
   "metadata": {},
   "outputs": [
    {
     "name": "stdout",
     "output_type": "stream",
     "text": [
      "['apssdc', 'is', 'the', 'training', 'program', 'of', 'python']\n"
     ]
    }
   ],
   "source": [
    "print(s1.split(' '))"
   ]
  },
  {
   "cell_type": "code",
   "execution_count": 45,
   "id": "16c7d627",
   "metadata": {},
   "outputs": [
    {
     "name": "stdout",
     "output_type": "stream",
     "text": [
      "['apssdc is the training program of python']\n"
     ]
    }
   ],
   "source": [
    "print(s1.split('\\n'))"
   ]
  },
  {
   "cell_type": "code",
   "execution_count": 50,
   "id": "b55bfdef",
   "metadata": {},
   "outputs": [
    {
     "data": {
      "text/plain": [
       "'s.1'"
      ]
     },
     "execution_count": 50,
     "metadata": {},
     "output_type": "execute_result"
    }
   ],
   "source": [
    "'.'.join('s1')"
   ]
  },
  {
   "cell_type": "code",
   "execution_count": 51,
   "id": "643fd54b",
   "metadata": {},
   "outputs": [
    {
     "name": "stdout",
     "output_type": "stream",
     "text": [
      ".a.p.s.s.d.c. .i.s. .t.h.e. .t.r.a.i.n.i.n.g. .p.r.o.g.r.a.m. .o.f. .p.y.t.h.o.n.\n"
     ]
    }
   ],
   "source": [
    "print(s1.replace('','.'))\n"
   ]
  },
  {
   "cell_type": "code",
   "execution_count": 53,
   "id": "abc023e1",
   "metadata": {},
   "outputs": [
    {
     "name": "stdout",
     "output_type": "stream",
     "text": [
      "Apssdc Is The Training Program Of Python\n"
     ]
    }
   ],
   "source": [
    "print(s1.title())\n"
   ]
  },
  {
   "cell_type": "code",
   "execution_count": 54,
   "id": "b32cdfef",
   "metadata": {},
   "outputs": [],
   "source": [
    "s9='3333'\n",
    "a1='alsdj'"
   ]
  },
  {
   "cell_type": "code",
   "execution_count": 58,
   "id": "39f3c314",
   "metadata": {},
   "outputs": [
    {
     "name": "stdout",
     "output_type": "stream",
     "text": [
      "True\n"
     ]
    }
   ],
   "source": [
    "print(s9.isalnum())"
   ]
  },
  {
   "cell_type": "code",
   "execution_count": 61,
   "id": "6930b7d2",
   "metadata": {},
   "outputs": [
    {
     "name": "stdout",
     "output_type": "stream",
     "text": [
      "True\n"
     ]
    }
   ],
   "source": [
    "print(a1.isalpha())"
   ]
  },
  {
   "cell_type": "code",
   "execution_count": 62,
   "id": "87b5a1cf",
   "metadata": {},
   "outputs": [
    {
     "name": "stdout",
     "output_type": "stream",
     "text": [
      "apssdc is the training program of python\n"
     ]
    }
   ],
   "source": [
    "print(s1)"
   ]
  },
  {
   "cell_type": "code",
   "execution_count": 63,
   "id": "5752a69c",
   "metadata": {},
   "outputs": [
    {
     "name": "stdout",
     "output_type": "stream",
     "text": [
      "a\n",
      "p\n",
      "s\n",
      "s\n",
      "d\n",
      "c\n",
      " \n",
      "i\n",
      "s\n",
      " \n",
      "t\n",
      "h\n",
      "e\n",
      " \n",
      "t\n",
      "r\n",
      "a\n",
      "i\n",
      "n\n",
      "i\n",
      "n\n",
      "g\n",
      " \n",
      "p\n",
      "r\n",
      "o\n",
      "g\n",
      "r\n",
      "a\n",
      "m\n",
      " \n",
      "o\n",
      "f\n",
      " \n",
      "p\n",
      "y\n",
      "t\n",
      "h\n",
      "o\n",
      "n\n"
     ]
    }
   ],
   "source": [
    "for char in s1:\n",
    "    print(char,end='\\n')"
   ]
  },
  {
   "cell_type": "markdown",
   "id": "17d13307",
   "metadata": {},
   "source": [
    "## list\n"
   ]
  },
  {
   "cell_type": "code",
   "execution_count": 64,
   "id": "e21caf14",
   "metadata": {},
   "outputs": [],
   "source": [
    "li=[3,4,4,5]"
   ]
  },
  {
   "cell_type": "code",
   "execution_count": 65,
   "id": "c95046c6",
   "metadata": {},
   "outputs": [
    {
     "name": "stdout",
     "output_type": "stream",
     "text": [
      "[3, 4, 4, 5]\n"
     ]
    }
   ],
   "source": [
    "print(li)"
   ]
  },
  {
   "cell_type": "code",
   "execution_count": 66,
   "id": "4cd4c83a",
   "metadata": {},
   "outputs": [
    {
     "name": "stdout",
     "output_type": "stream",
     "text": [
      "<class 'list'>\n"
     ]
    }
   ],
   "source": [
    "print(type(li))"
   ]
  },
  {
   "cell_type": "code",
   "execution_count": 69,
   "id": "69e0f4c9",
   "metadata": {},
   "outputs": [
    {
     "name": "stdout",
     "output_type": "stream",
     "text": [
      "[]\n"
     ]
    }
   ],
   "source": [
    "print(li[-1:-3])"
   ]
  },
  {
   "cell_type": "code",
   "execution_count": null,
   "id": "3db07762",
   "metadata": {},
   "outputs": [],
   "source": []
  },
  {
   "cell_type": "code",
   "execution_count": null,
   "id": "57b1e6ad",
   "metadata": {},
   "outputs": [],
   "source": []
  },
  {
   "cell_type": "code",
   "execution_count": null,
   "id": "a3d40053",
   "metadata": {},
   "outputs": [],
   "source": []
  },
  {
   "cell_type": "code",
   "execution_count": null,
   "id": "1140e5d0",
   "metadata": {},
   "outputs": [],
   "source": []
  }
 ],
 "metadata": {
  "kernelspec": {
   "display_name": "Python 3",
   "language": "python",
   "name": "python3"
  },
  "language_info": {
   "codemirror_mode": {
    "name": "ipython",
    "version": 3
   },
   "file_extension": ".py",
   "mimetype": "text/x-python",
   "name": "python",
   "nbconvert_exporter": "python",
   "pygments_lexer": "ipython3",
   "version": "3.8.8"
  }
 },
 "nbformat": 4,
 "nbformat_minor": 5
}
