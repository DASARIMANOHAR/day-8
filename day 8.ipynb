{
 "cells": [
  {
   "cell_type": "markdown",
   "id": "de549bee",
   "metadata": {},
   "source": [
    "#### day objective\n",
    "- strings\n",
    " - slicing in python \n",
    " - string methods"
   ]
  },
  {
   "cell_type": "markdown",
   "id": "b22ed536",
   "metadata": {},
   "source": []
  },
  {
   "cell_type": "code",
   "execution_count": 5,
   "id": "923c5417",
   "metadata": {},
   "outputs": [],
   "source": [
    "s1='''Python is an interpreted high-level general-purpose programming language. Python's design philosophy emphasizes'''"
   ]
  },
  {
   "cell_type": "code",
   "execution_count": 6,
   "id": "8c8d5dd5",
   "metadata": {},
   "outputs": [
    {
     "name": "stdout",
     "output_type": "stream",
     "text": [
      "P\n"
     ]
    }
   ],
   "source": [
    "print(s1[0])"
   ]
  },
  {
   "cell_type": "code",
   "execution_count": 8,
   "id": "c22dd7e8",
   "metadata": {},
   "outputs": [
    {
     "name": "stdout",
     "output_type": "stream",
     "text": [
      "y t s\n"
     ]
    }
   ],
   "source": [
    "print(s1[1],s1[2],s1[8])"
   ]
  },
  {
   "cell_type": "code",
   "execution_count": 9,
   "id": "5f191922",
   "metadata": {},
   "outputs": [
    {
     "name": "stdout",
     "output_type": "stream",
     "text": [
      "<class 'str'>\n"
     ]
    }
   ],
   "source": [
    "print(type(s1))"
   ]
  },
  {
   "cell_type": "code",
   "execution_count": 11,
   "id": "4e9f13cf",
   "metadata": {},
   "outputs": [
    {
     "name": "stdout",
     "output_type": "stream",
     "text": [
      "111\n"
     ]
    }
   ],
   "source": [
    "print(len(s1))"
   ]
  },
  {
   "cell_type": "markdown",
   "id": "84045bd5",
   "metadata": {},
   "source": [
    "# sliciing\n",
    "## syntax\n",
    " - string_var[startingindex:ending index]"
   ]
  },
  {
   "cell_type": "code",
   "execution_count": 14,
   "id": "981f6b1d",
   "metadata": {},
   "outputs": [],
   "source": [
    "s1='''Python is an interpreted high-level general-purpose programming language. Python's design philosophy emphasizes'''"
   ]
  },
  {
   "cell_type": "code",
   "execution_count": 13,
   "id": "37189e34",
   "metadata": {},
   "outputs": [
    {
     "name": "stdout",
     "output_type": "stream",
     "text": [
      "Pyt\n"
     ]
    }
   ],
   "source": [
    "print(s1[0:3])"
   ]
  },
  {
   "cell_type": "code",
   "execution_count": 15,
   "id": "652ebdae",
   "metadata": {},
   "outputs": [
    {
     "name": "stdout",
     "output_type": "stream",
     "text": [
      "l\n"
     ]
    }
   ],
   "source": [
    "print(s1[-77])"
   ]
  },
  {
   "cell_type": "code",
   "execution_count": 16,
   "id": "d59a853d",
   "metadata": {},
   "outputs": [
    {
     "name": "stdout",
     "output_type": "stream",
     "text": [
      "i\n"
     ]
    }
   ],
   "source": [
    "print(s1[-85])"
   ]
  },
  {
   "cell_type": "code",
   "execution_count": 17,
   "id": "6e4d92d0",
   "metadata": {},
   "outputs": [
    {
     "name": "stdout",
     "output_type": "stream",
     "text": [
      "111\n"
     ]
    }
   ],
   "source": [
    "print(len(s1))"
   ]
  },
  {
   "cell_type": "code",
   "execution_count": 20,
   "id": "5c313311",
   "metadata": {},
   "outputs": [
    {
     "name": "stdout",
     "output_type": "stream",
     "text": [
      "s\n"
     ]
    }
   ],
   "source": [
    "print(s1[110])"
   ]
  },
  {
   "cell_type": "code",
   "execution_count": 22,
   "id": "d2a33e89",
   "metadata": {},
   "outputs": [
    {
     "name": "stdout",
     "output_type": "stream",
     "text": [
      "Python is an interpreted high-level general-purpose programming language. Python's design philosophy\n"
     ]
    }
   ],
   "source": [
    "print(s1[:-11])"
   ]
  },
  {
   "cell_type": "code",
   "execution_count": 23,
   "id": "ebfd155a",
   "metadata": {},
   "outputs": [
    {
     "name": "stdout",
     "output_type": "stream",
     "text": [
      "gramming lan\n"
     ]
    }
   ],
   "source": [
    "print(s1[55:67])"
   ]
  },
  {
   "cell_type": "code",
   "execution_count": 24,
   "id": "e7fde682",
   "metadata": {},
   "outputs": [
    {
     "name": "stdout",
     "output_type": "stream",
     "text": [
      "emphasizes\n"
     ]
    }
   ],
   "source": [
    "print(s1[-10:])"
   ]
  },
  {
   "cell_type": "code",
   "execution_count": 28,
   "id": "0602a0be",
   "metadata": {},
   "outputs": [
    {
     "name": "stdout",
     "output_type": "stream",
     "text": [
      "Python is an interpreted high-level general-purpose programming language. Python's design philosophy emphasizes\n"
     ]
    }
   ],
   "source": [
    "print(s1[:])"
   ]
  },
  {
   "cell_type": "markdown",
   "id": "12f5eeea",
   "metadata": {},
   "source": [
    "- string_var(start:end:stepsize)"
   ]
  },
  {
   "cell_type": "code",
   "execution_count": 40,
   "id": "679879a2",
   "metadata": {},
   "outputs": [
    {
     "name": "stdout",
     "output_type": "stream",
     "text": [
      "Pto sa nepee ihlvlgnrlproepormiglnug.Pto' einpiooh mhszs\n"
     ]
    }
   ],
   "source": [
    "print(s1[: : 2])"
   ]
  },
  {
   "cell_type": "code",
   "execution_count": 41,
   "id": "de949796",
   "metadata": {},
   "outputs": [
    {
     "name": "stdout",
     "output_type": "stream",
     "text": [
      "szshm hooipnie 'otP.gunlgimropeorplrnglvlhi eepen as otP\n"
     ]
    }
   ],
   "source": [
    "print(s1[: : -2])"
   ]
  },
  {
   "cell_type": "markdown",
   "id": "017467da",
   "metadata": {},
   "source": [
    "s1='apssdc data sicenc"
   ]
  }
 ],
 "metadata": {
  "kernelspec": {
   "display_name": "Python 3",
   "language": "python",
   "name": "python3"
  },
  "language_info": {
   "codemirror_mode": {
    "name": "ipython",
    "version": 3
   },
   "file_extension": ".py",
   "mimetype": "text/x-python",
   "name": "python",
   "nbconvert_exporter": "python",
   "pygments_lexer": "ipython3",
   "version": "3.8.8"
  }
 },
 "nbformat": 4,
 "nbformat_minor": 5
}
